{
 "cells": [
  {
   "cell_type": "code",
   "execution_count": null,
   "metadata": {},
   "outputs": [],
   "source": [
    "import numpy as np\n",
    "import matplotlib.pyplot as plt\n",
    "import scipy.stats \n",
    "from iminuit import Minuit\n",
    "from iminuit.cost import UnbinnedNLL\n",
    "plt.style.use('../../mphil.mplstyle')"
   ]
  },
  {
   "cell_type": "code",
   "execution_count": 17,
   "metadata": {},
   "outputs": [],
   "source": [
    "x_1 = -9.3 \n",
    "sigmax_1 = 8.2\n",
    "y_1 = -1.3\n",
    "sigmay_1 = 8.4\n",
    "x_2 = 5.7 \n",
    "sigmax_2 = 8.2\n",
    "y_2 = 6.5\n",
    "sigmay_2 = 8.3\n",
    "\n",
    "correlation_matrix = np.array([\n",
    "    [1, -0.1, -0.05, 0.1],\n",
    "    [-0.1, 1, 0.1, -0.05],\n",
    "    [-0.05, 0.1, 1, 0.1],\n",
    "    [0.1, -0.05, 0.1, 1]\n",
    "])\n"
   ]
  },
  {
   "cell_type": "code",
   "execution_count": 18,
   "metadata": {},
   "outputs": [],
   "source": [
    "std_devs = np.array([sigmax_1, sigmay_1, sigmax_2, sigmay_2])\n",
    "observed_data = np.array([x_1, y_1, x_2, y_2])"
   ]
  },
  {
   "cell_type": "code",
   "execution_count": 19,
   "metadata": {},
   "outputs": [],
   "source": [
    "cov_matrix = np.outer(std_devs, std_devs) * correlation_matrix"
   ]
  },
  {
   "cell_type": "code",
   "execution_count": 20,
   "metadata": {},
   "outputs": [],
   "source": [
    "def nll(r, delta, gamma):\n",
    "    X_1 = r*np.cos(delta+gamma)\n",
    "    Y_1 = r*np.sin(delta+gamma)\n",
    "    X_2 = r*np.cos(delta-gamma)\n",
    "    Y_2 = r*np.sin(delta-gamma)\n",
    "    return -f4.logpdf([X_1,Y_1,X_2,Y_2])"
   ]
  },
  {
   "cell_type": "code",
   "execution_count": 21,
   "metadata": {},
   "outputs": [
    {
     "data": {
      "text/html": [
       "<table>\n",
       "    <tr>\n",
       "        <th colspan=\"2\" style=\"text-align:center\" title=\"Minimizer\"> Migrad </th>\n",
       "    </tr>\n",
       "    <tr>\n",
       "        <td style=\"text-align:left\" title=\"Minimum value of function\"> FCN = 12.11 </td>\n",
       "        <td style=\"text-align:center\" title=\"Total number of function and (optional) gradient evaluations\"> Nfcn = 121 </td>\n",
       "    </tr>\n",
       "    <tr>\n",
       "        <td style=\"text-align:left\" title=\"Estimated distance to minimum and goal\"> EDM = 4.69e-05 (Goal: 0.0002) </td>\n",
       "        <td style=\"text-align:center\" title=\"Total run time of algorithms\">  </td>\n",
       "    </tr>\n",
       "    <tr>\n",
       "        <td style=\"text-align:center;background-color:#92CCA6;color:black\"> Valid Minimum </td>\n",
       "        <td style=\"text-align:center;background-color:#92CCA6;color:black\"> Below EDM threshold (goal x 10) </td>\n",
       "    </tr>\n",
       "    <tr>\n",
       "        <td style=\"text-align:center;background-color:#92CCA6;color:black\"> No parameters at limit </td>\n",
       "        <td style=\"text-align:center;background-color:#92CCA6;color:black\"> Below call limit </td>\n",
       "    </tr>\n",
       "    <tr>\n",
       "        <td style=\"text-align:center;background-color:#92CCA6;color:black\"> Hesse ok </td>\n",
       "        <td style=\"text-align:center;background-color:#92CCA6;color:black\"> Covariance accurate </td>\n",
       "    </tr>\n",
       "</table><table>\n",
       "    <tr>\n",
       "        <td></td>\n",
       "        <th title=\"Variable name\"> Name </th>\n",
       "        <th title=\"Value of parameter\"> Value </th>\n",
       "        <th title=\"Hesse error\"> Hesse Error </th>\n",
       "        <th title=\"Minos lower error\"> Minos Error- </th>\n",
       "        <th title=\"Minos upper error\"> Minos Error+ </th>\n",
       "        <th title=\"Lower limit of the parameter\"> Limit- </th>\n",
       "        <th title=\"Upper limit of the parameter\"> Limit+ </th>\n",
       "        <th title=\"Is the parameter fixed in the fit\"> Fixed </th>\n",
       "    </tr>\n",
       "    <tr>\n",
       "        <th> 0 </th>\n",
       "        <td> r </td>\n",
       "        <td> 9 </td>\n",
       "        <td> 8 </td>\n",
       "        <td>  </td>\n",
       "        <td>  </td>\n",
       "        <td> 0 </td>\n",
       "        <td>  </td>\n",
       "        <td>  </td>\n",
       "    </tr>\n",
       "    <tr>\n",
       "        <th> 1 </th>\n",
       "        <td> delta </td>\n",
       "        <td> 2.1 </td>\n",
       "        <td> 0.9 </td>\n",
       "        <td>  </td>\n",
       "        <td>  </td>\n",
       "        <td> 0 </td>\n",
       "        <td> 6.28 </td>\n",
       "        <td>  </td>\n",
       "    </tr>\n",
       "    <tr>\n",
       "        <th> 2 </th>\n",
       "        <td> gamma </td>\n",
       "        <td> 1.2 </td>\n",
       "        <td> 0.8 </td>\n",
       "        <td>  </td>\n",
       "        <td>  </td>\n",
       "        <td> 0 </td>\n",
       "        <td> 6.28 </td>\n",
       "        <td>  </td>\n",
       "    </tr>\n",
       "</table><table>\n",
       "    <tr>\n",
       "        <td></td>\n",
       "        <th> r </th>\n",
       "        <th> delta </th>\n",
       "        <th> gamma </th>\n",
       "    </tr>\n",
       "    <tr>\n",
       "        <th> r </th>\n",
       "        <td> 66.7 </td>\n",
       "        <td style=\"background-color:rgb(237,237,250);color:black\"> -0.8 <strong>(-0.096)</strong> </td>\n",
       "        <td style=\"background-color:rgb(249,249,250);color:black\"> -0.0 <strong>(-0.006)</strong> </td>\n",
       "    </tr>\n",
       "    <tr>\n",
       "        <th> delta </th>\n",
       "        <td style=\"background-color:rgb(237,237,250);color:black\"> -0.8 <strong>(-0.096)</strong> </td>\n",
       "        <td> 0.91 </td>\n",
       "        <td style=\"background-color:rgb(250,243,243);color:black\"> 0.0 <strong>(0.047)</strong> </td>\n",
       "    </tr>\n",
       "    <tr>\n",
       "        <th> gamma </th>\n",
       "        <td style=\"background-color:rgb(249,249,250);color:black\"> -0.0 <strong>(-0.006)</strong> </td>\n",
       "        <td style=\"background-color:rgb(250,243,243);color:black\"> 0.0 <strong>(0.047)</strong> </td>\n",
       "        <td> 0.712 </td>\n",
       "    </tr>\n",
       "</table>"
      ],
      "text/plain": [
       "┌─────────────────────────────────────────────────────────────────────────┐\n",
       "│                                Migrad                                   │\n",
       "├──────────────────────────────────┬──────────────────────────────────────┤\n",
       "│ FCN = 12.11                      │              Nfcn = 121              │\n",
       "│ EDM = 4.69e-05 (Goal: 0.0002)    │                                      │\n",
       "├──────────────────────────────────┼──────────────────────────────────────┤\n",
       "│          Valid Minimum           │   Below EDM threshold (goal x 10)    │\n",
       "├──────────────────────────────────┼──────────────────────────────────────┤\n",
       "│      No parameters at limit      │           Below call limit           │\n",
       "├──────────────────────────────────┼──────────────────────────────────────┤\n",
       "│             Hesse ok             │         Covariance accurate          │\n",
       "└──────────────────────────────────┴──────────────────────────────────────┘\n",
       "┌───┬───────┬───────────┬───────────┬────────────┬────────────┬─────────┬─────────┬───────┐\n",
       "│   │ Name  │   Value   │ Hesse Err │ Minos Err- │ Minos Err+ │ Limit-  │ Limit+  │ Fixed │\n",
       "├───┼───────┼───────────┼───────────┼────────────┼────────────┼─────────┼─────────┼───────┤\n",
       "│ 0 │ r     │     9     │     8     │            │            │    0    │         │       │\n",
       "│ 1 │ delta │    2.1    │    0.9    │            │            │    0    │ 6.28319 │       │\n",
       "│ 2 │ gamma │    1.2    │    0.8    │            │            │    0    │ 6.28319 │       │\n",
       "└───┴───────┴───────────┴───────────┴────────────┴────────────┴─────────┴─────────┴───────┘\n",
       "┌───────┬───────────────────┐\n",
       "│       │     r delta gamma │\n",
       "├───────┼───────────────────┤\n",
       "│     r │  66.7  -0.8  -0.0 │\n",
       "│ delta │  -0.8  0.91   0.0 │\n",
       "│ gamma │  -0.0   0.0 0.712 │\n",
       "└───────┴───────────────────┘"
      ]
     },
     "execution_count": 21,
     "metadata": {},
     "output_type": "execute_result"
    }
   ],
   "source": [
    "# Negative unbinned log-likelihood, you can write your own\n",
    "m = Minuit(nll, r = 1, delta = 0, gamma = 0)\n",
    "m.limits[\"r\"] = (0, np.inf)\n",
    "m.limits[\"delta\"] = (0, 2*np.pi)\n",
    "m.limits[\"gamma\"] = (0, 2*np.pi)\n",
    "m.migrad()  # find minimum\n",
    "m.hesse()   # compute uncertainties"
   ]
  },
  {
   "cell_type": "code",
   "execution_count": 22,
   "metadata": {},
   "outputs": [
    {
     "name": "stdout",
     "output_type": "stream",
     "text": [
      "Fitting results:\n",
      "r = 9.028696543640597 ± 8.089655707768554\n",
      "delta = 2.0630755657096764 ± 0.9372962852875374\n",
      "gamma = 1.2117728211900118 ± 0.8277635581884681\n"
     ]
    }
   ],
   "source": [
    "# Results\n",
    "print(\"Fitting results:\")\n",
    "print(f\"r = {m.values['r']} ± {m.errors['r']}\")\n",
    "print(f\"delta = {m.values['delta']} ± {m.errors['delta']}\")\n",
    "print(f\"gamma = {m.values['gamma']} ± {m.errors['gamma']}\")"
   ]
  },
  {
   "cell_type": "code",
   "execution_count": null,
   "metadata": {},
   "outputs": [],
   "source": [
    "r = 9.028696543640597\n",
    "delta = np.lingspace(0,2,100)\n",
    "gamma = np.lingspace(0,1,100)\n"
   ]
  }
 ],
 "metadata": {
  "kernelspec": {
   "display_name": "base",
   "language": "python",
   "name": "python3"
  },
  "language_info": {
   "codemirror_mode": {
    "name": "ipython",
    "version": 3
   },
   "file_extension": ".py",
   "mimetype": "text/x-python",
   "name": "python",
   "nbconvert_exporter": "python",
   "pygments_lexer": "ipython3",
   "version": "3.12.4"
  }
 },
 "nbformat": 4,
 "nbformat_minor": 2
}
