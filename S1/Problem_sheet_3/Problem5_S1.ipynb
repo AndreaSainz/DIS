{
 "cells": [
  {
   "cell_type": "code",
   "execution_count": 14,
   "metadata": {},
   "outputs": [],
   "source": [
    "import numpy as np\n",
    "import matplotlib.pyplot as plt\n",
    "import scipy.stats "
   ]
  },
  {
   "cell_type": "code",
   "execution_count": 12,
   "metadata": {},
   "outputs": [],
   "source": [
    "x_1 = -9.3 \n",
    "sigmax_1 = 8.2\n",
    "y_1 = -1.3\n",
    "sigmay_1 = 8.4\n",
    "x_2 = 5.7 \n",
    "sigmax_2 = 8.2\n",
    "y_2 = 6.5\n",
    "sigmay_2 = 8.3\n",
    "rhox1y1 = -0.1\n",
    "rhox1y2 = 0.1\n",
    "rhox1x2 = -0.05\n",
    "rhox2y1 = 0.1\n",
    "rhox2y2 = 0.1\n",
    "rhoy1y2 = -0.05\n"
   ]
  },
  {
   "cell_type": "code",
   "execution_count": 13,
   "metadata": {},
   "outputs": [],
   "source": [
    "cov_matrix = [[sigmax_1**2, rhox1y1*sigmax_1*sigmay_1, rhox1x2*sigmax_1*sigmax_2, rhox1y2*sigmax_1*sigmay_2],\n",
    "              [ rhox1y1*sigmax_1*sigmay_1,sigmay_1**2, rhox2y1*sigmay_1*sigmax_2, rhoy1y2*sigmay_1*sigmay_2 ],\n",
    "              [ rhox1x2*sigmax_1*sigmax_2, rhox2y1*sigmay_1*sigmax_2, sigmax_2**2, rhox2y2*sigmax_2*sigmay_2 ],\n",
    "              [rhox1y2*sigmax_1*sigmay_2, rhoy1y2*sigmay_1*sigmay_2, rhox2y2*sigmax_2*sigmay_2, sigmay_2**2]]"
   ]
  },
  {
   "cell_type": "code",
   "execution_count": 16,
   "metadata": {},
   "outputs": [],
   "source": [
    "f4 = scipy.stats.multivariate_normal([x_1,y_1,x_2,y_2], cov_matrix) "
   ]
  },
  {
   "cell_type": "code",
   "execution_count": 17,
   "metadata": {},
   "outputs": [],
   "source": [
    "def XY(r,delta,gamma):\n",
    "    X_1 = r*np.cos(delta+gamma)\n",
    "    Y_1 = r*np.sin(delta+gamma)\n",
    "    X_2 = r*np.cos(delta-gamma)\n",
    "    Y_2 = r*np.sin(delta-gamma)\n",
    "    return X_1,Y_1,X_2,Y_2"
   ]
  },
  {
   "cell_type": "code",
   "execution_count": null,
   "metadata": {},
   "outputs": [],
   "source": []
  }
 ],
 "metadata": {
  "kernelspec": {
   "display_name": "base",
   "language": "python",
   "name": "python3"
  },
  "language_info": {
   "codemirror_mode": {
    "name": "ipython",
    "version": 3
   },
   "file_extension": ".py",
   "mimetype": "text/x-python",
   "name": "python",
   "nbconvert_exporter": "python",
   "pygments_lexer": "ipython3",
   "version": "3.12.4"
  }
 },
 "nbformat": 4,
 "nbformat_minor": 2
}
