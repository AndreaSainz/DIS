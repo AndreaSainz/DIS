{
 "cells": [
  {
   "cell_type": "code",
   "execution_count": 20,
   "metadata": {},
   "outputs": [],
   "source": [
    "import numpy as np\n",
    "np.random.seed(210187)\n",
    "from scipy.stats import chi2\n",
    "from tabulate import tabulate\n",
    "import matplotlib.pyplot as plt\n",
    "#plt.style.use(r\"/Users/andreasainz/Documents/DIS/First term code/DIS/mphil.mplstyle\")\n",
    "from scipy.stats import chi2\n",
    "import scipy\n",
    "plt.style.use('../../mphil.mplstyle')\n"
   ]
  },
  {
   "cell_type": "code",
   "execution_count": null,
   "metadata": {},
   "outputs": [],
   "source": [
    "def chi_square(n_events,n_intervals, l, n_para):\n",
    "\n",
    "    \n",
    "    # Calculate probabilities\n",
    "    sum_T = sum(n_intervals)\n",
    "    y_data = [n_i/sum_T for n_i in n_intervals ]\n",
    "\n",
    "    # define Posison distribution\n",
    "    def P(x,l):\n",
    "        return np.exp(-l)*l**(x)/scipy.special.factorial(x)\n",
    "\n",
    "\n",
    "    # make the data from the distribution\n",
    "    y_pos = [P(x,l) for x in n_events]\n",
    "\n",
    "\n",
    "    # compute chi2 and p-value for the fit\n",
    "    print_stats = []\n",
    "    c2=0\n",
    "    for i in  range(len(y_pos)):\n",
    "        c2 = c2 + (y_data[i] - y_pos[i])**2 / y_pos[i]\n",
    "\n",
    "    ndof = len(n_intervals) - n_para\n",
    "    pv = 1 - chi2.cdf(c2, ndof) if ndof>0 else np.inf\n",
    "    print_stats.append( [1, ndof, c2, c2/ndof, pv ])\n",
    "\n",
    "\n",
    "    print( tabulate(print_stats, headers=['nPar','nDOF', 'Chi2', 'Chi2/nDOF', 'P-val']) )"
   ]
  },
  {
   "cell_type": "markdown",
   "metadata": {},
   "source": [
    "## Section a"
   ]
  },
  {
   "cell_type": "code",
   "execution_count": 22,
   "metadata": {},
   "outputs": [],
   "source": [
    "n_events = np.linspace(0,9,10)\n",
    "n_intervals = [1042, 860, 307, 78, 15, 3, 0, 0, 0, 1]\n",
    "n_para=1"
   ]
  },
  {
   "cell_type": "code",
   "execution_count": 23,
   "metadata": {},
   "outputs": [],
   "source": [
    "l = np.sum(n_events*n_intervals)/np.sum(n_intervals)"
   ]
  },
  {
   "cell_type": "code",
   "execution_count": 24,
   "metadata": {},
   "outputs": [
    {
     "name": "stdout",
     "output_type": "stream",
     "text": [
      "  nPar    nDOF     Chi2    Chi2/nDOF     P-val\n",
      "------  ------  -------  -----------  --------\n",
      "     1       9  1.43679     0.159643  0.997589\n"
     ]
    }
   ],
   "source": [
    "chi_square(n_events,n_intervals, l, n_para)"
   ]
  },
  {
   "cell_type": "markdown",
   "metadata": {},
   "source": [
    "## Section b"
   ]
  },
  {
   "cell_type": "code",
   "execution_count": 25,
   "metadata": {},
   "outputs": [],
   "source": [
    "n_events = np.linspace(0,8,9)\n",
    "n_intervals = [1042, 860, 307, 78, 15, 3, 0, 0, 0]\n",
    "n_para=1"
   ]
  },
  {
   "cell_type": "code",
   "execution_count": 26,
   "metadata": {},
   "outputs": [],
   "source": [
    "l = np.sum(n_events*n_intervals)/np.sum(n_intervals)"
   ]
  },
  {
   "cell_type": "code",
   "execution_count": 27,
   "metadata": {},
   "outputs": [
    {
     "name": "stdout",
     "output_type": "stream",
     "text": [
      "  nPar    nDOF        Chi2    Chi2/nDOF    P-val\n",
      "------  ------  ----------  -----------  -------\n",
      "     1       8  0.00140772  0.000175965        1\n"
     ]
    }
   ],
   "source": [
    "chi_square(n_events,n_intervals, l, n_para)"
   ]
  },
  {
   "cell_type": "code",
   "execution_count": 28,
   "metadata": {},
   "outputs": [],
   "source": [
    "n_events = np.linspace(0,8,9)\n",
    "n_intervals = [1042, 860, 307, 78, 15, 3, 0, 0, 0]\n",
    "l=0.777103209; n_para=1"
   ]
  },
  {
   "cell_type": "code",
   "execution_count": 29,
   "metadata": {},
   "outputs": [
    {
     "name": "stdout",
     "output_type": "stream",
     "text": [
      "  nPar    nDOF        Chi2    Chi2/nDOF    P-val\n",
      "------  ------  ----------  -----------  -------\n",
      "     1       8  0.00141659  0.000177074        1\n"
     ]
    }
   ],
   "source": [
    "chi_square(n_events,n_intervals, l, n_para)"
   ]
  }
 ],
 "metadata": {
  "kernelspec": {
   "display_name": "Python 3",
   "language": "python",
   "name": "python3"
  },
  "language_info": {
   "codemirror_mode": {
    "name": "ipython",
    "version": 3
   },
   "file_extension": ".py",
   "mimetype": "text/x-python",
   "name": "python",
   "nbconvert_exporter": "python",
   "pygments_lexer": "ipython3",
   "version": "3.9.6"
  }
 },
 "nbformat": 4,
 "nbformat_minor": 2
}
