{
 "cells": [
  {
   "cell_type": "code",
   "execution_count": 77,
   "metadata": {},
   "outputs": [],
   "source": [
    "import numpy as np"
   ]
  },
  {
   "cell_type": "markdown",
   "metadata": {},
   "source": [
    "# Monty-Hall problem with 3 doors"
   ]
  },
  {
   "cell_type": "code",
   "execution_count": 78,
   "metadata": {},
   "outputs": [],
   "source": [
    "# Simulation parameters\n",
    "N = 100000 # Number of simulations (both problems)\n",
    "doors3 = [0, 1, 2]  # The three doors\n",
    "\n",
    "# Counters for wins\n",
    "stick_wins = 0\n",
    "switch_wins = 0"
   ]
  },
  {
   "cell_type": "code",
   "execution_count": 79,
   "metadata": {},
   "outputs": [],
   "source": [
    "\n",
    "for i in range(N):\n",
    "    # Select randomly the door with the prize\n",
    "    door_price = np.random.choice(doors3)\n",
    "    \n",
    "    # Player selects a door randomly\n",
    "    door_player1 = np.random.choice(doors3)\n",
    "    \n",
    "    # Host's available doors (excluding the one with the prize and the player's choice)\n",
    "    doors_available_host = [door for door in doors3 if door != door_price and door != door_player1]\n",
    "    \n",
    "    # Host opens a door that doesn't have the prize\n",
    "    door_host_opens = np.random.choice(doors_available_host)\n",
    "    \n",
    "    # Remaining door (the one that hasn't been chosen by player or opened by host)\n",
    "    remaining_door = [door for door in doors3 if door != door_player1 and door != door_host_opens]\n",
    "    \n",
    "    # Player wins if they stick with their choice\n",
    "    if door_player1 == door_price:\n",
    "        stick_wins += 1\n",
    "    \n",
    "    # Player wins if they switch to the remaining door\n",
    "    if remaining_door == door_price:\n",
    "        switch_wins += 1\n",
    "\n"
   ]
  },
  {
   "cell_type": "code",
   "execution_count": 80,
   "metadata": {},
   "outputs": [],
   "source": [
    "# Calculate the probabilities\n",
    "stick_win_prob = stick_wins / N\n",
    "switch_win_prob = switch_wins / N"
   ]
  },
  {
   "cell_type": "code",
   "execution_count": 81,
   "metadata": {},
   "outputs": [
    {
     "name": "stdout",
     "output_type": "stream",
     "text": [
      "Probability of winning if you stick: 0.33\n",
      "Probability of winning if you switch: 0.67\n"
     ]
    }
   ],
   "source": [
    "# Display the results\n",
    "print(f\"Probability of winning if you stick: {stick_win_prob:.2f}\")\n",
    "print(f\"Probability of winning if you switch: {switch_win_prob:.2f}\")"
   ]
  },
  {
   "cell_type": "markdown",
   "metadata": {},
   "source": [
    "# Monty-Hall problem with 100 doors"
   ]
  },
  {
   "cell_type": "code",
   "execution_count": 82,
   "metadata": {},
   "outputs": [],
   "source": [
    "doors100 = [i for i in range(100)]  # 100 doors\n",
    "\n",
    "# Counters for wins\n",
    "stick_wins = 0\n",
    "switch_wins = 0"
   ]
  },
  {
   "cell_type": "code",
   "execution_count": 83,
   "metadata": {},
   "outputs": [],
   "source": [
    "for i in range(N):\n",
    "    # Select randomly the door with the prize\n",
    "    door_price = np.random.choice(doors100)\n",
    "    \n",
    "    # Player selects a door randomly\n",
    "    door_player1 = np.random.choice(doors100)\n",
    "    \n",
    "    # Host's available doors (excluding the one with the prize and the player's choice)\n",
    "    doors_available_host = [door for door in doors100 if door != door_price and door != door_player1]\n",
    "    \n",
    "    # Host opens 98 doors that doesn't have the prize (we select randomly the one that its not going to be opened)\n",
    "    if door_price==door_player1:\n",
    "        remaining_door = np.random.choice(doors_available_host)\n",
    "    else:\n",
    "        remaining_door = door_price\n",
    "\n",
    "    \n",
    "    # Player wins if they stick with their choice\n",
    "    if door_player1 == door_price:\n",
    "        stick_wins += 1\n",
    "    \n",
    "    # Player wins if they switch to the remaining door\n",
    "    if remaining_door == door_price:\n",
    "        switch_wins += 1"
   ]
  },
  {
   "cell_type": "code",
   "execution_count": 84,
   "metadata": {},
   "outputs": [],
   "source": [
    "# Calculate the probabilities\n",
    "stick_win_prob = stick_wins / N\n",
    "switch_win_prob = switch_wins / N"
   ]
  },
  {
   "cell_type": "code",
   "execution_count": 85,
   "metadata": {},
   "outputs": [
    {
     "name": "stdout",
     "output_type": "stream",
     "text": [
      "Probability of winning if you stick: 0.01\n",
      "Probability of winning if you switch: 0.99\n"
     ]
    }
   ],
   "source": [
    "# Display the results\n",
    "print(f\"Probability of winning if you stick: {stick_win_prob:.2f}\")\n",
    "print(f\"Probability of winning if you switch: {switch_win_prob:.2f}\")"
   ]
  }
 ],
 "metadata": {
  "kernelspec": {
   "display_name": "base",
   "language": "python",
   "name": "python3"
  },
  "language_info": {
   "codemirror_mode": {
    "name": "ipython",
    "version": 3
   },
   "file_extension": ".py",
   "mimetype": "text/x-python",
   "name": "python",
   "nbconvert_exporter": "python",
   "pygments_lexer": "ipython3",
   "version": "3.12.4"
  }
 },
 "nbformat": 4,
 "nbformat_minor": 2
}
