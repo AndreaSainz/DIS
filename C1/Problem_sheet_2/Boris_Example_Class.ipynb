{
 "cells": [
  {
   "cell_type": "code",
   "execution_count": 1,
   "metadata": {},
   "outputs": [],
   "source": [
    "import random\n",
    "import time\n",
    "import matplotlib.pyplot as plt\n",
    "import numpy as np\n",
    "# Define the inefficient and efficient implementations\n",
    "def inefficient_common_elements(list1, list2):\n",
    "    common_elements = []\n",
    "    for item1 in list1:\n",
    "        for item2 in list2:\n",
    "            if item1 == item2 and item1 not in common_elements:\n",
    "                common_elements.append(item1)\n",
    "    return common_elements\n",
    "\n",
    "def efficient_common_elements(list1, list2):\n",
    "    return list(set(list1) & set(list2))\n",
    "\n",
    "# List sizes to test (you can adjust these values)\n",
    "N_values = [10, 100, 1000,  10000]\n",
    "\n",
    "# Lists to store means and standard deviations for times\n",
    "inefficient_times_mean = []\n",
    "inefficient_times_std = []\n",
    "efficient_times_mean = []\n",
    "efficient_times_std = []\n",
    "\n",
    "# Number of runs for averaging\n",
    "num_runs = 10"
   ]
  },
  {
   "cell_type": "code",
   "execution_count": 2,
   "metadata": {},
   "outputs": [
    {
     "name": "stdout",
     "output_type": "stream",
     "text": [
      "N=10\n",
      "  Inefficient method - Mean: 0.000001454353333 s, Std: 0.000000516328998 s\n",
      "  Efficient method   - Mean: 0.000000739097595 s, Std: 0.000000652500734 s\n",
      "N=100\n",
      "  Inefficient method - Mean: 0.000103211402893 s, Std: 0.000000869165713 s\n",
      "  Efficient method   - Mean: 0.000003814697266 s, Std: 0.000001567046807 s\n",
      "N=1000\n",
      "  Inefficient method - Mean: 0.010307717323303 s, Std: 0.000440338139558 s\n",
      "  Efficient method   - Mean: 0.000049090385437 s, Std: 0.000015639768133 s\n",
      "N=10000\n",
      "  Inefficient method - Mean: 1.037234854698181 s, Std: 0.008245661015603 s\n",
      "  Efficient method   - Mean: 0.000793123245239 s, Std: 0.000039251287382 s\n",
      "CPU times: user 10.4 s, sys: 12.2 ms, total: 10.4 s\n",
      "Wall time: 10.5 s\n"
     ]
    }
   ],
   "source": [
    "%%time\n",
    "# Test both implementations for each N\n",
    "for N in N_values:\n",
    "    # Generate random lists of size N\n",
    "    list1 = random.sample(range(1, N * 2), N)\n",
    "    list2 = random.sample(range(1, N * 2), N)\n",
    "    \n",
    "    # Store times for each run\n",
    "    inefficient_run_times = []\n",
    "    efficient_run_times = []\n",
    "    \n",
    "    # Run multiple evaluations\n",
    "    for _ in range(num_runs):\n",
    "        # Time the inefficient implementation\n",
    "        start = time.time()\n",
    "        inefficient_common_elements(list1, list2)\n",
    "        end = time.time()\n",
    "        inefficient_run_times.append(end - start)\n",
    "        \n",
    "        # Time the efficient implementation\n",
    "        start = time.time()\n",
    "        efficient_common_elements(list1, list2)\n",
    "        end = time.time()\n",
    "        efficient_run_times.append(end - start)\n",
    "    \n",
    "    # Compute mean and std for both implementations\n",
    "    inefficient_times_mean.append(np.mean(inefficient_run_times))\n",
    "    inefficient_times_std.append(np.std(inefficient_run_times))\n",
    "    efficient_times_mean.append(np.mean(efficient_run_times))\n",
    "    efficient_times_std.append(np.std(efficient_run_times))\n",
    "    \n",
    "    print(f\"N={N}\")\n",
    "    print(f\"  Inefficient method - Mean: {inefficient_times_mean[-1]:.15f} s, Std: {inefficient_times_std[-1]:.15f} s\")\n",
    "    print(f\"  Efficient method   - Mean: {efficient_times_mean[-1]:.15f} s, Std: {efficient_times_std[-1]:.15f} s\")"
   ]
  }
 ],
 "metadata": {
  "kernelspec": {
   "display_name": "Python 3",
   "language": "python",
   "name": "python3"
  },
  "language_info": {
   "codemirror_mode": {
    "name": "ipython",
    "version": 3
   },
   "file_extension": ".py",
   "mimetype": "text/x-python",
   "name": "python",
   "nbconvert_exporter": "python",
   "pygments_lexer": "ipython3",
   "version": "3.9.6"
  }
 },
 "nbformat": 4,
 "nbformat_minor": 2
}
