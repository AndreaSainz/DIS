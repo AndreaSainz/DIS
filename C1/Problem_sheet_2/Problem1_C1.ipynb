{
 "cells": [
  {
   "cell_type": "code",
   "execution_count": 1,
   "metadata": {},
   "outputs": [
    {
     "name": "stdout",
     "output_type": "stream",
     "text": [
      "The sine of 0.1 (expanded to order 5) is approximately 0.09983.\n"
     ]
    }
   ],
   "source": [
    "def sine_taylor(angle, order=5):\n",
    "    \"\"\"\n",
    "    Calculate the sine of an angle (in radians) using the Taylor series expansion\n",
    "    up to a specified order.\n",
    "    \n",
    "    Parameters:\n",
    "    angle (float): The angle in radians for which to calculate the sine.\n",
    "    order (int): The number of terms in the Taylor series to include in the calculation.\n",
    "    \n",
    "    Returns:\n",
    "    float: The approximate sine of the angle.\n",
    "    \"\"\"\n",
    "    sine_value = 0\n",
    "    for n in range(order):\n",
    "        # Calculate the nth term of the Taylor series\n",
    "        term = ((-1) ** n) * (angle ** (2 * n + 1)) / factorial(2 * n + 1)\n",
    "        sine_value += term\n",
    "    return sine_value\n",
    "\n",
    "def factorial(n):\n",
    "    \"\"\"Calculate the factorial of n.\"\"\"\n",
    "    if n == 0:\n",
    "        return 1\n",
    "    result = 1\n",
    "    for i in range(1, n + 1):\n",
    "        result *= i\n",
    "    return result\n",
    "\n",
    "# Calculate sine(0.1)\n",
    "angle = 0.1\n",
    "order = 5\n",
    "approximation = sine_taylor(angle, order)\n",
    "\n",
    "# Print the descriptive result\n",
    "description = (\n",
    "    f\"The sine of {angle} (expanded to order {order}) is approximately \"\n",
    "    f\"{approximation:.5f}.\"\n",
    ")\n",
    "\n",
    "print(description)"
   ]
  },
  {
   "cell_type": "code",
   "execution_count": 2,
   "metadata": {},
   "outputs": [
    {
     "data": {
      "text/plain": [
       "[2, 3, 5, 7, 11, 13, 17, 19]"
      ]
     },
     "execution_count": 2,
     "metadata": {},
     "output_type": "execute_result"
    }
   ],
   "source": [
    "def prime_numbers(N: int):\n",
    "    \"\"\"Return a list of prime numbers less than N.\"\"\"\n",
    "    prime = []\n",
    "    for i in range(2, N):  # Start from 2, as 1 is not a prime number\n",
    "        is_prime = True\n",
    "        for k in range(2, int(i ** 0.5) + 1):  # Only check up to the square root of i\n",
    "            if i % k == 0:  # Check if divisible\n",
    "                is_prime = False\n",
    "                break  # No need to check further if we found a divisor\n",
    "        if is_prime:\n",
    "            prime.append(i)\n",
    "    return prime\n",
    "\n",
    "prime_numbers(20)"
   ]
  },
  {
   "cell_type": "code",
   "execution_count": 3,
   "metadata": {},
   "outputs": [
    {
     "data": {
      "text/plain": [
       "[0, 1, 3, 6, 2, 7, 13, 20, 12, 21, 11, 22, 10, 23, 9, 24, 8, 25, 43, 62]"
      ]
     },
     "execution_count": 3,
     "metadata": {},
     "output_type": "execute_result"
    }
   ],
   "source": [
    "def recaman(N):\n",
    "    \"\"\"Return a list of the first N terms in the Recaman's sequence.\"\"\"\n",
    "    rec = [0]\n",
    "    for i in range(1, N):\n",
    "        a1 = rec[i - 1] - i\n",
    "        if a1 > 0 and a1 not in rec:\n",
    "            rec.append(a1)\n",
    "        else:\n",
    "            rec.append(rec[i - 1] + i)\n",
    "    return rec\n",
    "\n",
    "recaman(20)"
   ]
  },
  {
   "cell_type": "code",
   "execution_count": 4,
   "metadata": {},
   "outputs": [
    {
     "data": {
      "text/plain": [
       "[2, 3, 67, 37, 7, 71, 41, 73, 11, 43, 13, 79, 17, 83, 23, 89, 29, 31]"
      ]
     },
     "execution_count": 4,
     "metadata": {},
     "output_type": "execute_result"
    }
   ],
   "source": [
    "def common_elements(N):\n",
    "    \"\"\"Return common elements between the list of prime numbers and the Recaman sequence.\"\"\"\n",
    "    primes = prime_numbers(N)\n",
    "    recaman_seq = recaman(N)\n",
    "\n",
    "    # Find common elements\n",
    "    common = set(primes) & set(recaman_seq)\n",
    "    return list(common)\n",
    "\n",
    "common_elements(100)"
   ]
  },
  {
   "cell_type": "code",
   "execution_count": 9,
   "metadata": {},
   "outputs": [
    {
     "data": {
      "text/plain": [
       "[(2, 181440),\n",
       " (3, 120960),\n",
       " (5, 72576),\n",
       " (7, 51840),\n",
       " (11, 32989),\n",
       " (13, 27913),\n",
       " (17, 21345),\n",
       " (19, 19098),\n",
       " (23, 15777),\n",
       " (29, 12513),\n",
       " (31, 11705),\n",
       " (37, 9807),\n",
       " (41, 8850),\n",
       " (43, 8439),\n",
       " (47, 7720),\n",
       " (53, 6846),\n",
       " (59, 6150),\n",
       " (61, 5948),\n",
       " (67, 5416),\n",
       " (71, 5110),\n",
       " (73, 4970),\n",
       " (79, 4593),\n",
       " (83, 4372),\n",
       " (89, 4077),\n",
       " (97, 3741),\n",
       " (101, 3592),\n",
       " (103, 3523),\n",
       " (107, 3391),\n",
       " (109, 3329),\n",
       " (113, 3211),\n",
       " (127, 2857),\n",
       " (131, 2770),\n",
       " (137, 2648),\n",
       " (139, 2610),\n",
       " (149, 2435),\n",
       " (151, 2403),\n",
       " (157, 2311),\n",
       " (163, 2226),\n",
       " (167, 2172),\n",
       " (173, 2097),\n",
       " (179, 2027),\n",
       " (181, 2004),\n",
       " (191, 1899),\n",
       " (193, 1880),\n",
       " (197, 1842),\n",
       " (199, 1823),\n",
       " (211, 1719),\n",
       " (223, 1627),\n",
       " (227, 1598),\n",
       " (229, 1584),\n",
       " (233, 1557),\n",
       " (239, 1518),\n",
       " (241, 1505),\n",
       " (251, 1445),\n",
       " (257, 1411),\n",
       " (263, 1379),\n",
       " (269, 1348),\n",
       " (271, 1339),\n",
       " (277, 1310),\n",
       " (281, 1291),\n",
       " (283, 1282),\n",
       " (293, 1238),\n",
       " (307, 1182),\n",
       " (311, 1166),\n",
       " (313, 1159),\n",
       " (317, 1144),\n",
       " (331, 1096),\n",
       " (337, 1076),\n",
       " (347, 1045),\n",
       " (349, 1039),\n",
       " (353, 1027),\n",
       " (359, 1010),\n",
       " (367, 988),\n",
       " (373, 972),\n",
       " (379, 957),\n",
       " (383, 947),\n",
       " (389, 932),\n",
       " (397, 914),\n",
       " (401, 904),\n",
       " (409, 887),\n",
       " (419, 866),\n",
       " (421, 861),\n",
       " (431, 841),\n",
       " (433, 838),\n",
       " (439, 826),\n",
       " (443, 819),\n",
       " (449, 808),\n",
       " (457, 794),\n",
       " (461, 787),\n",
       " (463, 783),\n",
       " (467, 777),\n",
       " (479, 757),\n",
       " (487, 745),\n",
       " (491, 739),\n",
       " (499, 727),\n",
       " (503, 721),\n",
       " (509, 712),\n",
       " (521, 696),\n",
       " (523, 693),\n",
       " (541, 670),\n",
       " (547, 663),\n",
       " (557, 651),\n",
       " (563, 644),\n",
       " (569, 637),\n",
       " (571, 635),\n",
       " (577, 628),\n",
       " (587, 618),\n",
       " (593, 611),\n",
       " (599, 605),\n",
       " (601, 603)]"
      ]
     },
     "execution_count": 9,
     "metadata": {},
     "output_type": "execute_result"
    }
   ],
   "source": [
    "def pairs_factors(N):\n",
    "    primes= prime_numbers(int(N**0.5) + 1)\n",
    "    factor_pairs = [(i, N // i) for i in primes]\n",
    "\n",
    "    return factor_pairs\n",
    "\n",
    "pairs_factors(362880)"
   ]
  },
  {
   "cell_type": "code",
   "execution_count": 20,
   "metadata": {},
   "outputs": [
    {
     "name": "stdout",
     "output_type": "stream",
     "text": [
      "99\n",
      "98\n",
      "99\n",
      "98\n",
      "99\n",
      "98\n",
      "97\n",
      "98\n",
      "97\n",
      "96\n"
     ]
    },
    {
     "data": {
      "text/plain": [
       "96"
      ]
     },
     "execution_count": 20,
     "metadata": {},
     "output_type": "execute_result"
    }
   ],
   "source": [
    "import random\n",
    "\n",
    "def random_step(n:int, step:int):\n",
    "    for i in range(step):\n",
    "        s = random.randint(-1,1)\n",
    "        if s > 0:\n",
    "            n += 1\n",
    "        else:\n",
    "            n = n-1\n",
    "        print(n)\n",
    "    return n\n",
    "\n",
    "random_step(100,10)\n"
   ]
  }
 ],
 "metadata": {
  "kernelspec": {
   "display_name": "base",
   "language": "python",
   "name": "python3"
  },
  "language_info": {
   "codemirror_mode": {
    "name": "ipython",
    "version": 3
   },
   "file_extension": ".py",
   "mimetype": "text/x-python",
   "name": "python",
   "nbconvert_exporter": "python",
   "pygments_lexer": "ipython3",
   "version": "3.12.4"
  }
 },
 "nbformat": 4,
 "nbformat_minor": 2
}
