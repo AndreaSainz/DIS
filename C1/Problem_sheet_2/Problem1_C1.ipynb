{
 "cells": [
  {
   "cell_type": "code",
   "execution_count": 5,
   "metadata": {},
   "outputs": [
    {
     "data": {
      "text/plain": [
       "0.09983341664682817"
      ]
     },
     "execution_count": 5,
     "metadata": {},
     "output_type": "execute_result"
    }
   ],
   "source": [
    "def sine_taylor(angle, order=5):\n",
    "    \"\"\"\n",
    "    Calculate the sine of an angle (in radians) using the Taylor series expansion\n",
    "    up to a specified order.\n",
    "    \n",
    "    Parameters:\n",
    "    angle (float): The angle in radians for which to calculate the sine.\n",
    "    order (int): The number of terms in the Taylor series to include in the calculation.\n",
    "    \n",
    "    Returns:\n",
    "    float: The approximate sine of the angle.\n",
    "    \"\"\"\n",
    "    sine_value = 0\n",
    "    for n in range(order):\n",
    "        # Calculate the nth term of the Taylor series\n",
    "        term = ((-1)**n) * (angle**(2*n + 1)) / factorial(2*n + 1)\n",
    "        sine_value += term\n",
    "    return sine_value\n",
    "\n",
    "def factorial(n):\n",
    "    \"\"\"Calculate the factorial of n.\"\"\"\n",
    "    if n == 0:\n",
    "        return 1\n",
    "    result = 1\n",
    "    for i in range(1, n + 1):\n",
    "        result *= i\n",
    "    return result\n",
    "\n",
    "# Set the angle and the order of expansion\n",
    "angle = 0.1\n",
    "order = 5\n",
    "\n",
    "# Calculate sine using the Taylor series\n",
    "approximation = sine_taylor(angle, order)\n",
    "approximation"
   ]
  },
  {
   "cell_type": "code",
   "execution_count": 6,
   "metadata": {},
   "outputs": [
    {
     "name": "stdout",
     "output_type": "stream",
     "text": [
      "The sine of 0.1 (expanded to order 5) is approximately 0.09983.\n"
     ]
    }
   ],
   "source": [
    "# Create a descriptive string\n",
    "description = (\n",
    "    f\"The sine of {angle} (expanded to order {order}) is approximately \"\n",
    "    f\"{approximation:.5f}.\"\n",
    ")\n",
    "\n",
    "# Print the result\n",
    "print(description)"
   ]
  },
  {
   "cell_type": "code",
   "execution_count": 16,
   "metadata": {},
   "outputs": [],
   "source": [
    "def prime_numbers(N: int):\n",
    "    prime = []\n",
    "    for i in range(2, N):  # Start from 2, as 1 is not a prime number\n",
    "        is_prime = True\n",
    "        for k in range(2, int(i ** 0.5) + 1):  # Only go up to the square root of i\n",
    "            if i % k == 0:  # Check if divisible\n",
    "                is_prime = False\n",
    "                break  # No need to check further if we found a divisor\n",
    "        if is_prime:\n",
    "            prime.append(i)\n",
    "    return prime"
   ]
  },
  {
   "cell_type": "code",
   "execution_count": 17,
   "metadata": {},
   "outputs": [
    {
     "data": {
      "text/plain": [
       "[2, 3, 5, 7]"
      ]
     },
     "execution_count": 17,
     "metadata": {},
     "output_type": "execute_result"
    }
   ],
   "source": [
    "prime= prime_numbers(10)\n",
    "prime"
   ]
  },
  {
   "cell_type": "code",
   "execution_count": 22,
   "metadata": {},
   "outputs": [],
   "source": [
    "def recaman(N):\n",
    "    rec=[0]\n",
    "    for i in range(1,N):\n",
    "        a1 = rec[i-1]-i\n",
    "        if (a1 > 0) and a1 not in rec:\n",
    "            rec.append(a1)\n",
    "        else:\n",
    "            rec.append(rec[i-1]+i)\n",
    "    return rec"
   ]
  },
  {
   "cell_type": "code",
   "execution_count": 27,
   "metadata": {},
   "outputs": [
    {
     "data": {
      "text/plain": [
       "[0, 1, 3, 6, 2, 7, 13, 20, 12, 21, 11, 22, 10, 23, 9, 24, 8, 25, 43, 62]"
      ]
     },
     "execution_count": 27,
     "metadata": {},
     "output_type": "execute_result"
    }
   ],
   "source": [
    "rec =recaman(20)\n",
    "rec"
   ]
  },
  {
   "cell_type": "code",
   "execution_count": 29,
   "metadata": {},
   "outputs": [],
   "source": [
    "def both_lists(N):\n",
    "    rec = recaman(N)\n",
    "    prime= prime_numbers(N)\n",
    "    both=[i for i in prime if i in rec]\n",
    "\n",
    "    return both"
   ]
  },
  {
   "cell_type": "code",
   "execution_count": 31,
   "metadata": {},
   "outputs": [
    {
     "data": {
      "text/plain": [
       "[2, 3, 7, 11, 13, 17, 23, 29, 31, 37, 41, 43, 67, 71, 73, 79, 83, 89]"
      ]
     },
     "execution_count": 31,
     "metadata": {},
     "output_type": "execute_result"
    }
   ],
   "source": [
    "both = both_lists(100)\n",
    "both"
   ]
  },
  {
   "cell_type": "code",
   "execution_count": null,
   "metadata": {},
   "outputs": [],
   "source": []
  }
 ],
 "metadata": {
  "kernelspec": {
   "display_name": "Python 3",
   "language": "python",
   "name": "python3"
  },
  "language_info": {
   "codemirror_mode": {
    "name": "ipython",
    "version": 3
   },
   "file_extension": ".py",
   "mimetype": "text/x-python",
   "name": "python",
   "nbconvert_exporter": "python",
   "pygments_lexer": "ipython3",
   "version": "3.9.6"
  }
 },
 "nbformat": 4,
 "nbformat_minor": 2
}
