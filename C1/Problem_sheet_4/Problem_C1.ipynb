{
 "cells": [
  {
   "cell_type": "code",
   "execution_count": 1,
   "metadata": {},
   "outputs": [],
   "source": [
    "from kymatio.scattering1d.filter_bank import scattering_filter_factory\n",
    "import matplotlib.pyplot as plt\n",
    "import numpy as np\n",
    "from ipywidgets import interactive\n",
    "import ipywidgets as widgets"
   ]
  },
  {
   "cell_type": "code",
   "execution_count": 2,
   "metadata": {},
   "outputs": [],
   "source": [
    "T=8192 #should be power of two\n",
    "J=6\n",
    "Q=(16,1)"
   ]
  },
  {
   "cell_type": "code",
   "execution_count": 3,
   "metadata": {},
   "outputs": [],
   "source": [
    "phi_f, psi1_f, psi2_f  = scattering_filter_factory(N=T,J=J, Q=Q, T=T)"
   ]
  },
  {
   "cell_type": "code",
   "execution_count": 4,
   "metadata": {},
   "outputs": [
    {
     "data": {
      "application/vnd.jupyter.widget-view+json": {
       "model_id": "7b4235b8a2214f57a404af9bb0b3a7c7",
       "version_major": 2,
       "version_minor": 0
      },
      "text/plain": [
       "interactive(children=(IntSlider(value=0, description='wavelet_idx', max=62), Output()), _dom_classes=('widget-…"
      ]
     },
     "execution_count": 4,
     "metadata": {},
     "output_type": "execute_result"
    }
   ],
   "source": [
    "# Frequency axis (normalized frequency)\n",
    "frequencies = np.fft.fftfreq(T, 1 / T)\n",
    "frequencies = frequencies[:T // 2]  # Keep only positive frequencies\n",
    "\n",
    "# Function to plot wavelets with selected index\n",
    "def plot_wavelet(wavelet_idx):\n",
    "    # Get selected wavelet\n",
    "    psi_f = np.abs(psi1_f[wavelet_idx]['levels'][0])\n",
    "\n",
    "    # Plot the wavelet\n",
    "    plt.figure(figsize=(10, 6))\n",
    "    plt.plot(frequencies, psi_f[:T // 2], label=f'Wavelet {wavelet_idx}', color='blue')\n",
    "    plt.xscale('log')  # Logarithmic scale for frequency\n",
    "    plt.xlabel('Frequency (log scale)', fontsize=14)\n",
    "    plt.ylabel(r'$|\\psi(\\omega)|$', fontsize=14)\n",
    "    plt.title(f'First-order Wavelet in Frequency Domain (Wavelet {wavelet_idx})', fontsize=16)\n",
    "    plt.legend()\n",
    "    plt.grid(True)\n",
    "    plt.show()\n",
    "\n",
    "# Interactive widget for wavelet index\n",
    "interactive_plot = interactive(\n",
    "    plot_wavelet,\n",
    "    wavelet_idx=widgets.IntSlider(min=0, max=len(psi1_f) - 1, step=1, value=0)\n",
    ")\n",
    "\n",
    "# Display interactive widget\n",
    "interactive_plot"
   ]
  },
  {
   "cell_type": "code",
   "execution_count": null,
   "metadata": {},
   "outputs": [],
   "source": []
  }
 ],
 "metadata": {
  "kernelspec": {
   "display_name": "Python 3",
   "language": "python",
   "name": "python3"
  },
  "language_info": {
   "codemirror_mode": {
    "name": "ipython",
    "version": 3
   },
   "file_extension": ".py",
   "mimetype": "text/x-python",
   "name": "python",
   "nbconvert_exporter": "python",
   "pygments_lexer": "ipython3",
   "version": "3.9.6"
  }
 },
 "nbformat": 4,
 "nbformat_minor": 2
}
