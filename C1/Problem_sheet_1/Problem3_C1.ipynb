{
 "cells": [
  {
   "cell_type": "code",
   "execution_count": null,
   "metadata": {},
   "outputs": [],
   "source": [
    "[as3628@login-q-1 docs]$ source /home/as3628/c1_exmaple_classes/venvdir/venv_EC1_311/bin/activate\n"
   ]
  },
  {
   "cell_type": "code",
   "execution_count": null,
   "metadata": {},
   "outputs": [],
   "source": [
    "(venv_EC1_311) [as3628@login-q-1 docs]$ python -m ipykernel install --user --name venv_EC1_311 --display-name \"Python (venv_EC1_311)\"\n",
    "/home/as3628/c1_exmaple_classes/venvdir/venv_EC1_311/bin/python: No module named ipykernel\n",
    "(venv_EC1_311) [as3628@login-q-1 docs]$ cd ..\n",
    "(venv_EC1_311) [as3628@login-q-1 getdist]$ cd ..\n",
    "(venv_EC1_311) [as3628@login-q-1 c1_exmaple_classes]$ cd venvdir/\n",
    "(venv_EC1_311) [as3628@login-q-1 venvdir]$ cd venv_EC1_311/\n",
    "(venv_EC1_311) [as3628@login-q-1 venv_EC1_311]$ pip install ipykernel"
   ]
  },
  {
   "cell_type": "code",
   "execution_count": null,
   "metadata": {},
   "outputs": [],
   "source": [
    "(venv_EC1_311) [as3628@login-q-1 venv_EC1_311]$ python -m ipykernel install --user --name venv_EC1_311 --display-name \"Python (venv_EC1_311)\"\n",
    "Installed kernelspec venv_EC1_311 in /home/as3628/.local/share/jupyter/kernels/venv_ec1_311\n"
   ]
  }
 ],
 "metadata": {
  "language_info": {
   "name": "python"
  }
 },
 "nbformat": 4,
 "nbformat_minor": 2
}
