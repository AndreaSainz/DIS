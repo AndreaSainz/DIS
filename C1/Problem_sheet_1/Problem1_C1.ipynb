{
 "cells": [
  {
   "cell_type": "markdown",
   "metadata": {},
   "source": [
    "1.1"
   ]
  },
  {
   "cell_type": "code",
   "execution_count": null,
   "metadata": {},
   "outputs": [],
   "source": [
    "ssh as3628@login-icelake.hpc.cam.ac.uk"
   ]
  },
  {
   "cell_type": "markdown",
   "metadata": {},
   "source": [
    "1.2"
   ]
  },
  {
   "cell_type": "code",
   "execution_count": null,
   "metadata": {},
   "outputs": [],
   "source": [
    "#[as3628@login-q-4 ~]$ \n",
    "I'm in the Home directory because of the ~\n",
    "\n",
    "How to go to the home directory:\n",
    "cd $HOME\n",
    "cd ~"
   ]
  },
  {
   "cell_type": "markdown",
   "metadata": {},
   "source": [
    "1.3"
   ]
  },
  {
   "cell_type": "code",
   "execution_count": null,
   "metadata": {},
   "outputs": [],
   "source": [
    "How to create a new directory:\n",
    "mkdir c1_exmaple_classes"
   ]
  },
  {
   "cell_type": "markdown",
   "metadata": {},
   "source": [
    "1.4"
   ]
  },
  {
   "cell_type": "code",
   "execution_count": null,
   "metadata": {},
   "outputs": [],
   "source": [
    "How to navigate into a directory:\n",
    "cd c1_example_classes/"
   ]
  },
  {
   "cell_type": "markdown",
   "metadata": {},
   "source": [
    "1.5"
   ]
  },
  {
   "cell_type": "code",
   "execution_count": null,
   "metadata": {},
   "outputs": [],
   "source": [
    "How to create a file:\n",
    "\n",
    "[as3628@login-q-4 c1_exmaple_classes]$ touch ec1.sh\n",
    "[as3628@login-q-4 c1_exmaple_classes]$ ls\n",
    "ec1.sh\n",
    "\n",
    "\n",
    "If you do:\n",
    "           nano ec1.sh  or vim ec1.sh\n",
    "you will open the file even though it has not been created.\n",
    "\n",
    "What is inside the file:\n",
    "#!/bin/bash  ---> *** \n",
    "echo \"Hello $USER\" ---> $USER is a variable that contains the user name\n",
    "\n",
    "\n",
    "*** This line tells the system which interpreter to use to run the \n",
    "script. In this case, it tells the system to use the bash interpreter.\n",
    "#!/usr/bin/python3 para scripts de Python.\n",
    "#!/bin/sh para un shell más básico (como sh en lugar de bash).\n",
    "\n",
    "\n",
    "How to give permision to executate:\n",
    "chmod +x ec1.sh\n",
    "\n",
    "\n",
    "How to executate:\n",
    "[as3628@login-q-4 c1_exmaple_classes]$ ./ec1.sh\n",
    "Hello as3628"
   ]
  },
  {
   "cell_type": "markdown",
   "metadata": {},
   "source": [
    "1.6"
   ]
  },
  {
   "cell_type": "code",
   "execution_count": null,
   "metadata": {},
   "outputs": [],
   "source": [
    "#### .bash_profile (what is inside this file)\n",
    "\n",
    "# Get the aliases and functions\n",
    "if [ -f ~/.bashrc ]; then\n",
    "        . ~/.bashrc\n",
    "fi\n",
    "\n",
    "# User specific environment and startup programs\n",
    "\n",
    "PATH=$PATH:$HOME/bin\n",
    "\n",
    "export PATH\n",
    "\n",
    "\n",
    "What I create:\n",
    "# Create an environement variable called GOTOC1DIR that points to this directory (do  this by adding it to your .bashrc file)\n",
    "GOTOC1DIR=/home/as3628/c1_exmaple_classes ---> ***\n",
    "\n",
    "export GOTOC1DIR\n",
    "\n",
    "\n",
    "*** I see this path when I run pwd command in the directory I want to point at"
   ]
  },
  {
   "cell_type": "markdown",
   "metadata": {},
   "source": [
    "1.7"
   ]
  },
  {
   "cell_type": "code",
   "execution_count": null,
   "metadata": {},
   "outputs": [],
   "source": [
    "### ec1.sh (what is inside the file now)\n",
    "\n",
    "#!/bin/bash\n",
    "echo \"Hello $USER\"\n",
    "\n",
    "echo \"The example class directory is $GOTOC1DIR\""
   ]
  },
  {
   "cell_type": "markdown",
   "metadata": {},
   "source": [
    "1.8"
   ]
  },
  {
   "cell_type": "code",
   "execution_count": null,
   "metadata": {},
   "outputs": [],
   "source": [
    "#Add GOTOC1DIR to your PATH variable. Do this in your bashrc file.\n",
    "\n",
    "export PATH=$PATH:$GOTOC1DIR"
   ]
  },
  {
   "cell_type": "markdown",
   "metadata": {},
   "source": [
    "1.9"
   ]
  },
  {
   "cell_type": "code",
   "execution_count": null,
   "metadata": {},
   "outputs": [],
   "source": [
    "\n",
    "[as3628@login-q-4 ~]$ source ~/.bash_profile\n",
    "\n",
    "\n",
    "The source ~/.bashrc command immediately \n",
    "applies any changes you have made to the \n",
    ".bashrc file, such as new aliases, environment \n",
    "variables, functions, etc., without the need to \n",
    "close and reopen the terminal session."
   ]
  },
  {
   "cell_type": "markdown",
   "metadata": {},
   "source": [
    "1.10"
   ]
  },
  {
   "cell_type": "code",
   "execution_count": null,
   "metadata": {},
   "outputs": [],
   "source": [
    "[as3628@login-q-4 ~]$ ec1.sh \n",
    "Hello as3628\n",
    "The example class directory is /home/as3628/c1_exmaple_classes"
   ]
  },
  {
   "cell_type": "markdown",
   "metadata": {},
   "source": [
    "1.11"
   ]
  },
  {
   "cell_type": "code",
   "execution_count": null,
   "metadata": {},
   "outputs": [],
   "source": [
    "What is inside of the file now:\n",
    "#!/bin/bash\n",
    "echo \"Hello $USER\"\n",
    "\n",
    "echo \"The example class directory is $GOTOC1DIR\"\n",
    "\n",
    "tree -L 3 $GOTOC1DIR"
   ]
  },
  {
   "cell_type": "markdown",
   "metadata": {},
   "source": [
    "1.12"
   ]
  },
  {
   "cell_type": "code",
   "execution_count": null,
   "metadata": {},
   "outputs": [],
   "source": [
    "#!/bin/bash\n",
    "echo \"Hello $USER\"\n",
    "\n",
    "echo \"The example class directory is $GOTOC1DIR\"\n",
    "\n",
    "tree -L 3 $GOTOC1DIR\n",
    "\n",
    "ls -alh  $GOTOC1DIR\n",
    "\n",
    "\n",
    "\n",
    "\n",
    "When executing again the file:\n",
    "\n",
    "\n",
    "[as3628@login-q-4 c1_exmaple_classes]$ ec1.sh \n",
    "Hello as3628\n",
    "The example class directory is /home/as3628/c1_exmaple_classes\n",
    "/home/as3628/c1_exmaple_classes\n",
    "└── ec1.sh\n",
    "\n",
    "0 directories, 1 file\n",
    "total 112K\n",
    "drwxrwxr-x 2 as3628 as3628  24 oct 23 17:56 .\n",
    "drwx------ 9 as3628 as3628 483 oct 23 17:51 ..\n",
    "-rwxrwxr-x 1 as3628 as3628 124 oct 24 09:20 ec1.sh\n",
    "[as3628@login-q-4 c1_exmaple_classes]$ cd ..\n",
    "[as3628@login-q-4 ~]$ ec1.sh \n",
    "Hello as3628\n",
    "The example class directory is /home/as3628/c1_exmaple_classes\n",
    "/home/as3628/c1_exmaple_classes\n",
    "└── ec1.sh\n",
    "\n",
    "0 directories, 1 file\n",
    "total 112K\n",
    "drwxrwxr-x 2 as3628 as3628  24 oct 23 17:56 .\n",
    "drwx------ 9 as3628 as3628 483 oct 23 17:51 ..\n",
    "-rwxrwxr-x 1 as3628 as3628 124 oct 24 09:20 ec1.sh"
   ]
  }
 ],
 "metadata": {
  "language_info": {
   "name": "python"
  }
 },
 "nbformat": 4,
 "nbformat_minor": 2
}
