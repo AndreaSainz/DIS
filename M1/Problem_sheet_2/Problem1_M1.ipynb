{
 "cells": [
  {
   "cell_type": "markdown",
   "metadata": {},
   "source": [
    "# MNIST DATASET"
   ]
  },
  {
   "cell_type": "code",
   "execution_count": 1,
   "metadata": {},
   "outputs": [],
   "source": [
    "from sklearn.linear_model import SGDClassifier, LogisticRegression\n",
    "from sklearn.metrics import accuracy_score, confusion_matrix\n",
    "from tensorflow.keras.datasets import mnist"
   ]
  },
  {
   "cell_type": "markdown",
   "metadata": {},
   "source": [
    "Cargamos el dataset"
   ]
  },
  {
   "cell_type": "code",
   "execution_count": 2,
   "metadata": {},
   "outputs": [],
   "source": [
    "(x_train, y_train), (x_test, y_test) = mnist.load_data()"
   ]
  },
  {
   "cell_type": "markdown",
   "metadata": {},
   "source": [
    "### SGDClassifier"
   ]
  },
  {
   "cell_type": "code",
   "execution_count": 3,
   "metadata": {},
   "outputs": [],
   "source": [
    "# Reshape the training and test data\n",
    "x_train_reshaped = x_train.reshape(x_train.shape[0], -1)\n",
    "x_test_reshaped = x_test.reshape(x_test.shape[0], -1)\n"
   ]
  },
  {
   "cell_type": "markdown",
   "metadata": {},
   "source": [
    "# NORMALISE THE DATA"
   ]
  },
  {
   "cell_type": "code",
   "execution_count": 4,
   "metadata": {},
   "outputs": [],
   "source": [
    "SGDclf1 = SGDClassifier(max_iter=1000, tol=1e-2) #‘l2’\n",
    "SGDclf1.fit(x_train_reshaped, y_train)\n",
    "SGDpredictions1 = SGDclf1.predict(x_test_reshaped)"
   ]
  },
  {
   "cell_type": "code",
   "execution_count": 5,
   "metadata": {},
   "outputs": [],
   "source": [
    "SGDdifferences_i = [i for i,x in enumerate(SGDpredictions1) if x != y_test[i]]"
   ]
  },
  {
   "cell_type": "markdown",
   "metadata": {},
   "source": [
    "Quiero ver la imagen que era realmente y la etiqueta que se le ha dado"
   ]
  },
  {
   "cell_type": "code",
   "execution_count": 6,
   "metadata": {},
   "outputs": [
    {
     "name": "stdout",
     "output_type": "stream",
     "text": [
      "Real , prediction: 5 ; 6\n"
     ]
    },
    {
     "data": {
      "image/png": "[encoded data removed]",
      "text/plain": [
       "<Figure size 640x480 with 1 Axes>"
      ]
     },
     "metadata": {},
     "output_type": "display_data"
    },
    {
     "name": "stdout",
     "output_type": "stream",
     "text": [
      "Real , prediction: 3 ; 5\n"
     ]
    },
    {
     "data": {
      "image/png": "[encoded data removed]",
      "text/plain": [
       "<Figure size 640x480 with 1 Axes>"
      ]
     },
     "metadata": {},
     "output_type": "display_data"
    },
    {
     "name": "stdout",
     "output_type": "stream",
     "text": [
      "Real , prediction: 4 ; 0\n"
     ]
    },
    {
     "data": {
      "image/png": "[encoded data removed]",
      "text/plain": [
       "<Figure size 640x480 with 1 Axes>"
      ]
     },
     "metadata": {},
     "output_type": "display_data"
    },
    {
     "name": "stdout",
     "output_type": "stream",
     "text": [
      "Real , prediction: 2 ; 3\n"
     ]
    },
    {
     "data": {
      "image/png": "[encoded data removed]",
      "text/plain": [
       "<Figure size 640x480 with 1 Axes>"
      ]
     },
     "metadata": {},
     "output_type": "display_data"
    }
   ],
   "source": [
    "import matplotlib.pyplot as plt\n",
    "%matplotlib inline\n",
    "\n",
    "for i in range(4):\n",
    "    index = SGDdifferences_i[i]\n",
    "    print(f\"Real , prediction: {y_test[index]} ; {SGDpredictions1[index]}\")\n",
    "    # Reshape the flattened image back to its 28x28 form for visualization\n",
    "    image = x_test[index].reshape(28, 28)\n",
    "\n",
    "    # Display the image\n",
    "    plt.imshow(image, cmap='gray')\n",
    "    plt.title(f\"Image at index {index}\")\n",
    "    plt.axis('off')  # Hide axis\n",
    "    plt.show()"
   ]
  },
  {
   "cell_type": "code",
   "execution_count": 7,
   "metadata": {},
   "outputs": [
    {
     "name": "stderr",
     "output_type": "stream",
     "text": [
      "/opt/anaconda3/lib/python3.12/site-packages/sklearn/linear_model/_stochastic_gradient.py:723: ConvergenceWarning: Maximum number of iteration reached before convergence. Consider increasing max_iter to improve the fit.\n",
      "  warnings.warn(\n"
     ]
    }
   ],
   "source": [
    "SGDclf2 = SGDClassifier(max_iter=1000, tol=1e-2, penalty='l1') \n",
    "SGDclf2.fit(x_train_reshaped, y_train)\n",
    "SGDpredictions2 = SGDclf2.predict(x_test_reshaped)"
   ]
  },
  {
   "cell_type": "code",
   "execution_count": 8,
   "metadata": {},
   "outputs": [],
   "source": [
    "SGDclf3 = SGDClassifier(max_iter=1000, tol=1e-2, penalty='elasticnet') \n",
    "SGDclf3.fit(x_train_reshaped, y_train)\n",
    "SGDpredictions3 = SGDclf3.predict(x_test_reshaped)"
   ]
  },
  {
   "cell_type": "code",
   "execution_count": 9,
   "metadata": {},
   "outputs": [
    {
     "name": "stdout",
     "output_type": "stream",
     "text": [
      "l2 penalty\n",
      "Accuracy: 0.8782\n",
      "[[ 966    0    1    2    0    5    2    1    1    2]\n",
      " [   1 1116    5    0    0    3    4    0    2    4]\n",
      " [   8   10  929   14    4    9   22   12   18    6]\n",
      " [  17    1   30  826    1   78    7   12   11   27]\n",
      " [   2    1    8    1  781    2   12    9   12  154]\n",
      " [  22    3    1   19    8  761    9    4   35   30]\n",
      " [  17    4   10    3    6   36  872    1    5    4]\n",
      " [   3    5   32    5    0    2    1  900    2   78]\n",
      " [  19   22   22   29    8   63    8   11  678  114]\n",
      " [   7    4    3   10    7    5    0   15    5  953]]\n",
      "\n",
      "l1 penalty\n",
      "Accuracy: 0.8712\n",
      "[[ 943    0    5    7    1    1    1    1   20    1]\n",
      " [   0 1100    4    2    0    1    5    1   20    2]\n",
      " [   5   14  856   32   11    2   16   12   83    1]\n",
      " [   9    1   27  813    2   51    4   19   72   12]\n",
      " [   1    2    8   11  881    0    1    7   49   22]\n",
      " [  15    4    4   33   15  711   13    6   81   10]\n",
      " [   4    3   12   22    2   15  872    1   27    0]\n",
      " [   1    4   13    7    8    1    1  919   36   38]\n",
      " [   6   10   14   28   12   38    6    8  834   18]\n",
      " [   3    8    0   13   48    7    0   33  114  783]]\n",
      "\n",
      "elasticnet penalty\n",
      "Accuracy: 0.8482\n",
      "[[ 960    0    0    1    0    2   14    1    2    0]\n",
      " [   2 1056    7    7    0    5   25    1   32    0]\n",
      " [  41    3  836   52    6    2   45    6   40    1]\n",
      " [  12    0   14  901    1   19   11    8   40    4]\n",
      " [  12    1    4    6  872    2   50    2   24    9]\n",
      " [  28    1    4   71   13  636   58    6   72    3]\n",
      " [   8    1    5    2    4    4  931    0    3    0]\n",
      " [   9    3   29   21   10    4    1  923   11   17]\n",
      " [  37    2    5   34    8   24   43    4  814    3]\n",
      " [  27    3   10   31   92   31    3   50  209  553]]\n",
      "\n"
     ]
    }
   ],
   "source": [
    "for i,x in enumerate(['l2','l1','elasticnet']):\n",
    "    print(f\"{x} penalty\")\n",
    "    n = [SGDpredictions1,SGDpredictions2,SGDpredictions3]\n",
    "    print(f\"Accuracy: {accuracy_score(y_test, n[i])}\")\n",
    "    print(confusion_matrix(y_test, n[i]))\n",
    "    print(f\"\")\n"
   ]
  },
  {
   "cell_type": "markdown",
   "metadata": {},
   "source": [
    "### LogisticRegression"
   ]
  },
  {
   "cell_type": "code",
   "execution_count": 10,
   "metadata": {},
   "outputs": [],
   "source": [
    "LRclf1 = LogisticRegression(max_iter=1000, tol=1e-2, solver='saga') #‘l2’\n",
    "LRclf1.fit(x_train_reshaped, y_train)\n",
    "LRpredictions1 = LRclf1.predict(x_test_reshaped)"
   ]
  },
  {
   "cell_type": "code",
   "execution_count": 11,
   "metadata": {},
   "outputs": [],
   "source": [
    "LRdifferences_i = [i for i,x in enumerate(LRpredictions1) if x != y_test[i]]"
   ]
  },
  {
   "cell_type": "code",
   "execution_count": 12,
   "metadata": {},
   "outputs": [
    {
     "name": "stdout",
     "output_type": "stream",
     "text": [
      "Real , prediction: 5 ; 6\n"
     ]
    },
    {
     "data": {
      "image/png": "[encoded data removed]",
      "text/plain": [
       "<Figure size 640x480 with 1 Axes>"
      ]
     },
     "metadata": {},
     "output_type": "display_data"
    },
    {
     "name": "stdout",
     "output_type": "stream",
     "text": [
      "Real , prediction: 4 ; 6\n"
     ]
    },
    {
     "data": {
      "image/png": "[encoded data removed]",
      "text/plain": [
       "<Figure size 640x480 with 1 Axes>"
      ]
     },
     "metadata": {},
     "output_type": "display_data"
    },
    {
     "name": "stdout",
     "output_type": "stream",
     "text": [
      "Real , prediction: 3 ; 2\n"
     ]
    },
    {
     "data": {
      "image/png": "[encoded data removed]",
      "text/plain": [
       "<Figure size 640x480 with 1 Axes>"
      ]
     },
     "metadata": {},
     "output_type": "display_data"
    },
    {
     "name": "stdout",
     "output_type": "stream",
     "text": [
      "Real , prediction: 6 ; 2\n"
     ]
    },
    {
     "data": {
      "image/png": "[encoded data removed]",
      "text/plain": [
       "<Figure size 640x480 with 1 Axes>"
      ]
     },
     "metadata": {},
     "output_type": "display_data"
    }
   ],
   "source": [
    "for i in range(4):\n",
    "    index = LRdifferences_i[i]\n",
    "    print(f\"Real , prediction: {y_test[index]} ; {LRpredictions1[index]}\")\n",
    "    # Reshape the flattened image back to its 28x28 form for visualization\n",
    "    image = x_test[index].reshape(28, 28)\n",
    "\n",
    "    # Display the image\n",
    "    plt.imshow(image, cmap='gray')\n",
    "    plt.title(f\"Image at index {index}\")\n",
    "    plt.axis('off')  # Hide axis\n",
    "    plt.show()"
   ]
  },
  {
   "cell_type": "code",
   "execution_count": 13,
   "metadata": {},
   "outputs": [],
   "source": [
    "LRclf2 = LogisticRegression(max_iter=1000, tol=1e-2, penalty='l1', solver='saga') \n",
    "LRclf2.fit(x_train_reshaped, y_train)\n",
    "LRpredictions2 = LRclf2.predict(x_test_reshaped)"
   ]
  },
  {
   "cell_type": "code",
   "execution_count": 14,
   "metadata": {},
   "outputs": [],
   "source": [
    "LRclf3 = LogisticRegression(max_iter=1000,l1_ratio=0.5, tol=1e-2, penalty='elasticnet', solver='saga') \n",
    "LRclf3.fit(x_train_reshaped, y_train)\n",
    "LRpredictions3 = LRclf3.predict(x_test_reshaped)"
   ]
  },
  {
   "cell_type": "code",
   "execution_count": 15,
   "metadata": {},
   "outputs": [
    {
     "name": "stdout",
     "output_type": "stream",
     "text": [
      "l2 penalty\n",
      "Accuracy: 0.9256\n",
      "[[ 962    0    0    3    1    2    5    4    3    0]\n",
      " [   0 1117    5    2    0    1    3    1    6    0]\n",
      " [   5   11  925   15    9    3   12   12   38    2]\n",
      " [   4    1   18  923    1   24    3    9   21    6]\n",
      " [   1    1    6    3  916    0    8    7    9   31]\n",
      " [  11    3    2   38   11  770   12    6   34    5]\n",
      " [   8    3    8    2    7   17  911    2    0    0]\n",
      " [   1    5   25    6    6    1    0  949    4   31]\n",
      " [   8   13    5   23    6   25   10   11  861   12]\n",
      " [  10    7    1    9   25    6    0   21    8  922]]\n",
      "\n",
      "l1 penalty\n",
      "Accuracy: 0.9256\n",
      "[[ 962    0    0    3    1    2    5    4    3    0]\n",
      " [   0 1117    5    2    0    1    3    1    6    0]\n",
      " [   5   11  925   15    9    3   12   12   38    2]\n",
      " [   4    1   18  923    1   24    3    9   21    6]\n",
      " [   1    1    6    3  916    0    8    7    9   31]\n",
      " [  11    3    2   38   11  770   12    6   34    5]\n",
      " [   8    3    8    2    7   17  911    2    0    0]\n",
      " [   1    5   25    6    6    1    0  949    4   31]\n",
      " [   8   13    5   23    6   25   10   11  861   12]\n",
      " [  10    7    1    9   25    6    0   21    8  922]]\n",
      "\n",
      "elasticnet penalty\n",
      "Accuracy: 0.9256\n",
      "[[ 962    0    0    3    1    2    5    4    3    0]\n",
      " [   0 1117    5    2    0    1    3    1    6    0]\n",
      " [   5   11  925   15    9    3   12   12   38    2]\n",
      " [   4    1   18  923    1   24    3    9   21    6]\n",
      " [   1    1    6    3  916    0    8    7    9   31]\n",
      " [  11    3    2   38   11  770   12    6   34    5]\n",
      " [   8    3    8    2    7   17  911    2    0    0]\n",
      " [   1    5   25    6    6    1    0  949    4   31]\n",
      " [   8   13    5   23    6   25   10   11  861   12]\n",
      " [  10    7    1    9   25    6    0   21    8  922]]\n",
      "\n"
     ]
    }
   ],
   "source": [
    "for i,x in enumerate(['l2','l1','elasticnet']):\n",
    "    print(f\"{x} penalty\")\n",
    "    n = [LRpredictions3,LRpredictions3,LRpredictions3]\n",
    "    print(f\"Accuracy: {accuracy_score(y_test, n[i])}\")\n",
    "    print(confusion_matrix(y_test, n[i]))\n",
    "    print(f\"\")"
   ]
  },
  {
   "cell_type": "markdown",
   "metadata": {},
   "source": [
    "prueba "
   ]
  }
 ],
 "metadata": {
  "kernelspec": {
   "display_name": "base",
   "language": "python",
   "name": "python3"
  },
  "language_info": {
   "codemirror_mode": {
    "name": "ipython",
    "version": 3
   },
   "file_extension": ".py",
   "mimetype": "text/x-python",
   "name": "python",
   "nbconvert_exporter": "python",
   "pygments_lexer": "ipython3",
   "version": "3.12.4"
  }
 },
 "nbformat": 4,
 "nbformat_minor": 2
}
