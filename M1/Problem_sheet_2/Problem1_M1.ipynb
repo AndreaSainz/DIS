{
 "cells": [
  {
   "cell_type": "markdown",
   "metadata": {},
   "source": [
    "# MNIST DATASET"
   ]
  },
  {
   "cell_type": "code",
   "execution_count": 1,
   "metadata": {},
   "outputs": [],
   "source": [
    "from sklearn.linear_model import SGDClassifier, LogisticRegression\n",
    "from sklearn.metrics import accuracy_score, confusion_matrix\n",
    "from tensorflow.keras.datasets import mnist"
   ]
  },
  {
   "cell_type": "markdown",
   "metadata": {},
   "source": [
    "Cargamos el dataset"
   ]
  },
  {
   "cell_type": "code",
   "execution_count": 2,
   "metadata": {},
   "outputs": [],
   "source": [
    "(x_train, y_train), (x_test, y_test) = mnist.load_data()"
   ]
  },
  {
   "cell_type": "markdown",
   "metadata": {},
   "source": [
    "### SGDClassifier"
   ]
  },
  {
   "cell_type": "code",
   "execution_count": 3,
   "metadata": {},
   "outputs": [],
   "source": [
    "# Reshape the training and test data\n",
    "x_train_reshaped = x_train.reshape(x_train.shape[0], -1)\n",
    "x_test_reshaped = x_test.reshape(x_test.shape[0], -1)\n"
   ]
  },
  {
   "cell_type": "code",
   "execution_count": 4,
   "metadata": {},
   "outputs": [],
   "source": [
    "SGDclf1 = SGDClassifier(max_iter=1000, tol=1e-2) #‘l2’\n",
    "SGDclf1.fit(x_train_reshaped, y_train)\n",
    "SGDpredictions1 = SGDclf1.predict(x_test_reshaped)"
   ]
  },
  {
   "cell_type": "code",
   "execution_count": 5,
   "metadata": {},
   "outputs": [],
   "source": [
    "SGDdifferences_i = [i for i,x in enumerate(SGDpredictions1) if x != y_test[i]]"
   ]
  },
  {
   "cell_type": "markdown",
   "metadata": {},
   "source": [
    "Quiero ver la imagen que era realmente y la etiqueta que se le ha dado"
   ]
  },
  {
   "cell_type": "code",
   "execution_count": 6,
   "metadata": {},
   "outputs": [
    {
     "name": "stdout",
     "output_type": "stream",
     "text": [
      "Real , prediction: 4 ; 6\n"
     ]
    },
    {
     "data": {
      "image/png": "[encoded data removed]",
      "text/plain": [
       "<Figure size 640x480 with 1 Axes>"
      ]
     },
     "metadata": {},
     "output_type": "display_data"
    }
   ],
   "source": [
    "import matplotlib.pyplot as plt\n",
    "\n",
    "\n",
    "index = SGDdifferences_i[3]\n",
    "print(f\"Real , prediction: {y_test[index]} ; {SGDpredictions1[index]}\")\n",
    "# Reshape the flattened image back to its 28x28 form for visualization\n",
    "image = x_test[index].reshape(28, 28)\n",
    "\n",
    "# Display the image\n",
    "plt.imshow(image, cmap='gray')\n",
    "plt.title(f\"Image at index {index}\")\n",
    "plt.axis('off')  # Hide axis\n",
    "plt.show()"
   ]
  },
  {
   "cell_type": "code",
   "execution_count": 7,
   "metadata": {},
   "outputs": [
    {
     "name": "stderr",
     "output_type": "stream",
     "text": [
      "/opt/anaconda3/lib/python3.12/site-packages/sklearn/linear_model/_stochastic_gradient.py:723: ConvergenceWarning: Maximum number of iteration reached before convergence. Consider increasing max_iter to improve the fit.\n",
      "  warnings.warn(\n"
     ]
    }
   ],
   "source": [
    "SGDclf2 = SGDClassifier(max_iter=1000, tol=1e-2, penalty='l1') \n",
    "SGDclf2.fit(x_train_reshaped, y_train)\n",
    "SGDpredictions2 = SGDclf2.predict(x_test_reshaped)"
   ]
  },
  {
   "cell_type": "code",
   "execution_count": 8,
   "metadata": {},
   "outputs": [],
   "source": [
    "SGDclf3 = SGDClassifier(max_iter=1000, tol=1e-2, penalty='elasticnet') \n",
    "SGDclf3.fit(x_train_reshaped, y_train)\n",
    "SGDpredictions3 = SGDclf3.predict(x_test_reshaped)"
   ]
  },
  {
   "cell_type": "code",
   "execution_count": 9,
   "metadata": {},
   "outputs": [
    {
     "name": "stdout",
     "output_type": "stream",
     "text": [
      "l2 penalty\n",
      "Accuracy: 0.8805\n",
      "[[ 939    0    4    3    0    4    6    4   14    6]\n",
      " [   0 1105    6    0    0    1    4    2   15    2]\n",
      " [  12    4  894   12    9    0   17   28   51    5]\n",
      " [  20    1   20  783    7   48    6   26   79   20]\n",
      " [   1    2    5    2  846    0   11   24   21   70]\n",
      " [  10    4    1   13   16  715   12   15   83   23]\n",
      " [   8    3   10    3    4   13  882    1   31    3]\n",
      " [   0    2   12    5    3    0    1  978    5   22]\n",
      " [   9   11    7   11   12   16    4   28  848   28]\n",
      " [   5    6    2    5   28    3    0  114   31  815]]\n",
      "\n",
      "l1 penalty\n",
      "Accuracy: 0.8703\n",
      "[[ 934    0    1    6    2    2    5    2   28    0]\n",
      " [   0 1098    5    2    0    2    4    2   22    0]\n",
      " [   5   14  862   39   11    2   13    8   76    2]\n",
      " [   8    3   26  824    5   51    1   14   64   14]\n",
      " [   2    2   11    7  874    0    6    6   53   21]\n",
      " [  10    3    3   35   13  698   17    9   94   10]\n",
      " [  11    2    6   13    4   15  877    0   30    0]\n",
      " [   1    6   14    6    8    0    1  914   40   38]\n",
      " [  11    7   10   23   10   35   13    5  844   16]\n",
      " [   4    9    1   11   42   10    0   34  120  778]]\n",
      "\n",
      "elasticnet penalty\n",
      "Accuracy: 0.901\n",
      "[[ 966    0    0    2    0    2    3    2    3    2]\n",
      " [   0 1115    4    1    0    5    4    1    4    1]\n",
      " [  23   22  851   26    9    4   24   10   54    9]\n",
      " [  15    0   15  865    1   49    4    9   39   13]\n",
      " [   3    2    3    4  866    0   20    2   32   50]\n",
      " [  18    3    1   17   12  778   13    7   32   11]\n",
      " [  12    3    3    0    7   25  898    1    9    0]\n",
      " [   6    7   20   10    8    1    2  900   13   61]\n",
      " [  13   13    5   18   13   36    8    5  846   17]\n",
      " [   8    6    1   19   21    5    0    9   15  925]]\n",
      "\n"
     ]
    }
   ],
   "source": [
    "for i,x in enumerate(['l2','l1','elasticnet']):\n",
    "    print(f\"{x} penalty\")\n",
    "    n = [SGDpredictions1,SGDpredictions2,SGDpredictions3]\n",
    "    print(f\"Accuracy: {accuracy_score(y_test, n[i])}\")\n",
    "    print(confusion_matrix(y_test, n[i]))\n",
    "    print(f\"\")\n"
   ]
  },
  {
   "cell_type": "markdown",
   "metadata": {},
   "source": [
    "### LogisticRegression"
   ]
  },
  {
   "cell_type": "code",
   "execution_count": 10,
   "metadata": {},
   "outputs": [],
   "source": [
    "LRclf1 = LogisticRegression(max_iter=1000, tol=1e-2, solver='saga') #‘l2’\n",
    "LRclf1.fit(x_train_reshaped, y_train)\n",
    "LRpredictions1 = LRclf1.predict(x_test_reshaped)"
   ]
  },
  {
   "cell_type": "code",
   "execution_count": 11,
   "metadata": {},
   "outputs": [],
   "source": [
    "LRdifferences_i = [i for i,x in enumerate(LRpredictions1) if x != y_test[i]]"
   ]
  },
  {
   "cell_type": "code",
   "execution_count": 12,
   "metadata": {},
   "outputs": [
    {
     "name": "stdout",
     "output_type": "stream",
     "text": [
      "Real , prediction: 4 ; 6\n"
     ]
    },
    {
     "data": {
      "image/png": "[encoded data removed]",
      "text/plain": [
       "<Figure size 640x480 with 1 Axes>"
      ]
     },
     "metadata": {},
     "output_type": "display_data"
    }
   ],
   "source": [
    "index = LRdifferences_i[1]\n",
    "print(f\"Real , prediction: {y_test[index]} ; {LRpredictions1[index]}\")\n",
    "# Reshape the flattened image back to its 28x28 form for visualization\n",
    "image = x_test[index].reshape(28, 28)\n",
    "\n",
    "# Display the image\n",
    "plt.imshow(image, cmap='gray')\n",
    "plt.title(f\"Image at index {index}\")\n",
    "plt.axis('off')  # Hide axis\n",
    "plt.show()"
   ]
  },
  {
   "cell_type": "code",
   "execution_count": 13,
   "metadata": {},
   "outputs": [],
   "source": [
    "LRclf2 = LogisticRegression(max_iter=1000, tol=1e-2, penalty='l1', solver='saga') \n",
    "LRclf2.fit(x_train_reshaped, y_train)\n",
    "LRpredictions2 = LRclf2.predict(x_test_reshaped)"
   ]
  },
  {
   "cell_type": "code",
   "execution_count": 14,
   "metadata": {},
   "outputs": [],
   "source": [
    "LRclf3 = LogisticRegression(max_iter=1000,l1_ratio=0.5, tol=1e-2, penalty='elasticnet', solver='saga') \n",
    "LRclf3.fit(x_train_reshaped, y_train)\n",
    "LRpredictions3 = LRclf3.predict(x_test_reshaped)"
   ]
  },
  {
   "cell_type": "code",
   "execution_count": 15,
   "metadata": {},
   "outputs": [
    {
     "name": "stdout",
     "output_type": "stream",
     "text": [
      "l2 penalty\n",
      "Accuracy: 0.9259\n",
      "[[ 962    0    0    3    1    2    5    4    3    0]\n",
      " [   0 1117    5    2    0    1    3    1    6    0]\n",
      " [   5   11  926   15    9    3   12   11   38    2]\n",
      " [   4    1   18  922    1   24    3    9   22    6]\n",
      " [   1    1    6    3  917    0    7    7    9   31]\n",
      " [  11    3    2   37   10  772   12    6   34    5]\n",
      " [   8    3    8    2    7   17  911    2    0    0]\n",
      " [   1    5   25    6    6    1    0  949    4   31]\n",
      " [   8   13    5   23    6   25   10   11  861   12]\n",
      " [  10    7    1    9   25    6    0   21    8  922]]\n",
      "\n",
      "l1 penalty\n",
      "Accuracy: 0.9259\n",
      "[[ 962    0    0    3    1    2    5    4    3    0]\n",
      " [   0 1117    5    2    0    1    3    1    6    0]\n",
      " [   5   11  926   15    9    3   12   11   38    2]\n",
      " [   4    1   18  922    1   24    3    9   22    6]\n",
      " [   1    1    6    3  917    0    7    7    9   31]\n",
      " [  11    3    2   37   10  772   12    6   34    5]\n",
      " [   8    3    8    2    7   17  911    2    0    0]\n",
      " [   1    5   25    6    6    1    0  949    4   31]\n",
      " [   8   13    5   23    6   25   10   11  861   12]\n",
      " [  10    7    1    9   25    6    0   21    8  922]]\n",
      "\n",
      "elasticnet penalty\n",
      "Accuracy: 0.9259\n",
      "[[ 962    0    0    3    1    2    5    4    3    0]\n",
      " [   0 1117    5    2    0    1    3    1    6    0]\n",
      " [   5   11  926   15    9    3   12   11   38    2]\n",
      " [   4    1   18  922    1   24    3    9   22    6]\n",
      " [   1    1    6    3  917    0    7    7    9   31]\n",
      " [  11    3    2   37   10  772   12    6   34    5]\n",
      " [   8    3    8    2    7   17  911    2    0    0]\n",
      " [   1    5   25    6    6    1    0  949    4   31]\n",
      " [   8   13    5   23    6   25   10   11  861   12]\n",
      " [  10    7    1    9   25    6    0   21    8  922]]\n",
      "\n"
     ]
    }
   ],
   "source": [
    "for i,x in enumerate(['l2','l1','elasticnet']):\n",
    "    print(f\"{x} penalty\")\n",
    "    n = [LRpredictions3,LRpredictions3,LRpredictions3]\n",
    "    print(f\"Accuracy: {accuracy_score(y_test, n[i])}\")\n",
    "    print(confusion_matrix(y_test, n[i]))\n",
    "    print(f\"\")"
   ]
  },
  {
   "cell_type": "markdown",
   "metadata": {},
   "source": [
    "prueba "
   ]
  }
 ],
 "metadata": {
  "kernelspec": {
   "display_name": "base",
   "language": "python",
   "name": "python3"
  },
  "language_info": {
   "codemirror_mode": {
    "name": "ipython",
    "version": 3
   },
   "file_extension": ".py",
   "mimetype": "text/x-python",
   "name": "python",
   "nbconvert_exporter": "python",
   "pygments_lexer": "ipython3",
   "version": "3.12.4"
  }
 },
 "nbformat": 4,
 "nbformat_minor": 2
}
